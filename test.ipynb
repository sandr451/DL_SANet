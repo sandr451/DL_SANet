{
 "cells": [
  {
   "cell_type": "code",
   "execution_count": 29,
   "metadata": {},
   "outputs": [],
   "source": [
    "from keras.models import model_from_json\n",
    "import os\n",
    "import cv2\n",
    "import glob\n",
    "import h5py\n",
    "# import pandas as pd\n",
    "from sklearn.metrics import mean_absolute_error\n",
    "import scipy.io as io\n",
    "from PIL import Image\n",
    "import numpy as np\n",
    "import tensorflow as tf\n",
    "from tensorflow import keras"
   ]
  },
  {
   "cell_type": "code",
   "execution_count": 30,
   "metadata": {},
   "outputs": [],
   "source": [
    "# with open('models/SANet.json', 'r') as json_file:\n",
    "#     json_savedModel= json_file.read()\n",
    "# model = tf.keras.models.model_from_json(json_savedModel)\n",
    "# model.summary()"
   ]
  },
  {
   "cell_type": "code",
   "execution_count": 31,
   "metadata": {},
   "outputs": [],
   "source": [
    "# weights_path = \"weights_B_ssim_eucli_loss_bestMAE27.467_Sun-Mar-19/SANet_best.hdf5\"\n",
    "# model.load_weights(weights_path)"
   ]
  },
  {
   "cell_type": "code",
   "execution_count": 32,
   "metadata": {},
   "outputs": [],
   "source": [
    "def load_model(option):\n",
    "    \n",
    "    json_file = open('models/SANet.json', 'r')\n",
    "    loaded_model_json = json_file.read()\n",
    "    json_file.close()\n",
    "    loaded_model = model_from_json(loaded_model_json)\n",
    "    if(option=='A'):\n",
    "        loaded_model.load_weights((\"weights_A_ssim_eucli_loss_bestMAE208.02_Sun-Mar-19/SANet_best.hdf5\"))\n",
    "    if(option=='B'):\n",
    "        loaded_model.load_weights((\"weights_B_ssim_eucli_loss_bestMAE39.186_Sun-Mar-19/SANet_best.hdf5\"))\n",
    "    return loaded_model\n",
    "\n",
    "\n",
    "def create_img(path):\n",
    "    im = Image.open(path).convert('RGB')\n",
    "    \n",
    "    im = np.array(im)\n",
    "    \n",
    "    im = im/255.0\n",
    "    \n",
    "    im[:,:,0]=(im[:,:,0]-0.485)/0.229\n",
    "    im[:,:,1]=(im[:,:,1]-0.456)/0.224\n",
    "    im[:,:,2]=(im[:,:,2]-0.406)/0.225\n",
    "\n",
    "\n",
    "    im = np.expand_dims(im,axis  = 0)\n",
    "    return im"
   ]
  },
  {
   "cell_type": "code",
   "execution_count": 33,
   "metadata": {},
   "outputs": [],
   "source": [
    "root = 'data/ShanghaiTech'\n",
    "part_A_train = os.path.join(root,'part_A/train_data','images')\n",
    "part_A_test = os.path.join(root,'part_A/test_data','images')\n",
    "part_B_train = os.path.join(root,'part_B/train_data','images')\n",
    "part_B_test = os.path.join(root,'part_B/test_data','images')\n"
   ]
  },
  {
   "cell_type": "code",
   "execution_count": 34,
   "metadata": {},
   "outputs": [],
   "source": [
    "path_sets = [part_A_test]\n",
    "\n",
    "img_paths = []\n",
    "for path in path_sets:\n",
    "    for img_path in glob.glob(os.path.join(path, '*.jpg')):\n",
    "        img_paths.append(img_path)\n",
    "# print(len(img_paths))"
   ]
  },
  {
   "cell_type": "code",
   "execution_count": 35,
   "metadata": {},
   "outputs": [
    {
     "name": "stderr",
     "output_type": "stream",
     "text": [
      "C:\\Users\\asus\\anaconda3\\envs\\csrnet_kb\\lib\\site-packages\\ipykernel_launcher.py:9: H5pyDeprecationWarning: The default file mode will change to 'r' (read-only) in h5py 3.0. To suppress this warning, pass the mode you need to h5py.File(), or set the global default h5.get_config().default_file_mode, or set the environment variable H5PY_DEFAULT_READONLY=1. Available modes are: 'r', 'r+', 'w', 'w-'/'x', 'a'. See the docs for details.\n",
      "  if __name__ == '__main__':\n"
     ]
    },
    {
     "name": "stdout",
     "output_type": "stream",
     "text": [
      "MAE Part A:  208.97298\n"
     ]
    }
   ],
   "source": [
    "model = load_model('A')\n",
    "name = []\n",
    "y_true = []\n",
    "y_pred = []\n",
    "\n",
    "\n",
    "for image in img_paths:\n",
    "    name.append(image)\n",
    "    gt = h5py.File(image.replace('.jpg','.h5').replace('images','ground') )\n",
    "    groundtruth = np.asarray(gt['density'])\n",
    "    num1 = np.sum(groundtruth)\n",
    "    y_true.append(np.sum(num1))\n",
    "    img = create_img(image)\n",
    "    num = np.sum(model.predict(img))\n",
    "    y_pred.append(np.sum(num))\n",
    "\n",
    "    \n",
    "ans = mean_absolute_error(np.array(y_true),np.array(y_pred))\n",
    "print(\"MAE Part A: \" , ans )"
   ]
  },
  {
   "cell_type": "code",
   "execution_count": 36,
   "metadata": {},
   "outputs": [],
   "source": [
    "path_sets = [part_B_test]\n",
    "\n",
    "img_paths = []\n",
    "for path in path_sets:\n",
    "    for img_path in glob.glob(os.path.join(path, '*.jpg')):\n",
    "        img_paths.append(img_path)\n",
    "# print(len(img_paths))"
   ]
  },
  {
   "cell_type": "code",
   "execution_count": 37,
   "metadata": {},
   "outputs": [
    {
     "name": "stderr",
     "output_type": "stream",
     "text": [
      "C:\\Users\\asus\\anaconda3\\envs\\csrnet_kb\\lib\\site-packages\\ipykernel_launcher.py:9: H5pyDeprecationWarning: The default file mode will change to 'r' (read-only) in h5py 3.0. To suppress this warning, pass the mode you need to h5py.File(), or set the global default h5.get_config().default_file_mode, or set the environment variable H5PY_DEFAULT_READONLY=1. Available modes are: 'r', 'r+', 'w', 'w-'/'x', 'a'. See the docs for details.\n",
      "  if __name__ == '__main__':\n"
     ]
    },
    {
     "name": "stdout",
     "output_type": "stream",
     "text": [
      "MAE Part B:  39.18647\n"
     ]
    }
   ],
   "source": [
    "model = load_model('B')\n",
    "name = []\n",
    "y_true = []\n",
    "y_pred = []\n",
    "\n",
    "\n",
    "for image in img_paths:\n",
    "    name.append(image)\n",
    "    gt = h5py.File(image.replace('.jpg','.h5').replace('images','ground') )\n",
    "    groundtruth = np.asarray(gt['density'])\n",
    "    num1 = np.sum(groundtruth)\n",
    "    y_true.append(np.sum(num1))\n",
    "    img = create_img(image)\n",
    "    num = np.sum(model.predict(img))\n",
    "    y_pred.append(np.sum(num))\n",
    "\n",
    "    \n",
    "ans = mean_absolute_error(np.array(y_true),np.array(y_pred))\n",
    "print(\"MAE Part B: \" , ans )"
   ]
  }
 ],
 "metadata": {
  "kernelspec": {
   "display_name": "Python 3",
   "language": "python",
   "name": "python3"
  },
  "language_info": {
   "codemirror_mode": {
    "name": "ipython",
    "version": 3
   },
   "file_extension": ".py",
   "mimetype": "text/x-python",
   "name": "python",
   "nbconvert_exporter": "python",
   "pygments_lexer": "ipython3",
   "version": "3.6.13"
  }
 },
 "nbformat": 4,
 "nbformat_minor": 2
}
